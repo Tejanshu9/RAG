{
 "cells": [
  {
   "cell_type": "code",
   "execution_count": 2,
   "id": "dec9abcf-4269-4fa4-9992-a377968ae165",
   "metadata": {},
   "outputs": [
    {
     "name": "stdout",
     "output_type": "stream",
     "text": [
      "It’s never too late to join a course! You're taking a great step by asking this, which already shows initiative and curiosity. Whether you're an adult returning to study, looking to change fields, or someone trying something new for personal growth, you'll gain valuable knowledge, skills, and confidence.\n",
      "\n",
      "Each course is designed for students at all levels, from beginners to more advanced learners. Whether you're learning a language, a technical skill, or a creative craft—materials, support, and teaching are tailored so you can learn at a comfortable pace.\n",
      "\n",
      "**If you tell us what course you're interested in**, I can even suggest materials and resources that might help you get started or catch up quickly. Learning is an ongoing process, so don't hesitate to reach out! Let’s make your educational journey a success. 😊📚\n"
     ]
    }
   ],
   "source": [
    "import os\n",
    "from openai import OpenAI\n",
    "\n",
    "api_key = os.getenv(\"OPENROUTER_API_KEY\")\n",
    "\n",
    "client = OpenAI(\n",
    "    api_key=api_key,\n",
    "    base_url=\"https://openrouter.ai/api/v1\"\n",
    ")\n",
    "\n",
    "response = client.chat.completions.create(\n",
    "    model=\"mistralai/mistral-7b-instruct\",\n",
    "    messages=[{\"role\": \"user\", \"content\": \"Is it too late to join the course?\"}]\n",
    ")\n",
    "\n",
    "print(response.choices[0].message.content)\n"
   ]
  },
  {
   "cell_type": "code",
   "execution_count": null,
   "id": "290d640b-1027-4ed5-9e84-1b483fb28f4a",
   "metadata": {},
   "outputs": [],
   "source": []
  }
 ],
 "metadata": {
  "kernelspec": {
   "display_name": "Python 3 (ipykernel)",
   "language": "python",
   "name": "python3"
  },
  "language_info": {
   "codemirror_mode": {
    "name": "ipython",
    "version": 3
   },
   "file_extension": ".py",
   "mimetype": "text/x-python",
   "name": "python",
   "nbconvert_exporter": "python",
   "pygments_lexer": "ipython3",
   "version": "3.12.1"
  }
 },
 "nbformat": 4,
 "nbformat_minor": 5
}
