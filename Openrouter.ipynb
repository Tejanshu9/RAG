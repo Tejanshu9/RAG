{
 "cells": [
  {
   "cell_type": "code",
   "execution_count": 1,
   "id": "dec9abcf-4269-4fa4-9992-a377968ae165",
   "metadata": {},
   "outputs": [
    {
     "name": "stdout",
     "output_type": "stream",
     "text": [
      " I'm unable to determine the specific course you're referring to, as you haven't provided any details. However, it's always good to ask the course organizers or administrators about joining a course, whether it's too late or not. Many courses offer flexible enrollment periods, while others may require you to sign up before a certain deadline. If you're referring to an online course, you might be able to register even if the course has already started, depending on the platform and the course policy.\n"
     ]
    }
   ],
   "source": [
    "from openai import OpenAI\n",
    "import os\n",
    "\n",
    "# Set environment variable or directly in code\n",
    "os.environ[\"OPENAI_API_KEY\"] = \"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\"  # starts with sk-or-...\n",
    "client = OpenAI(base_url=\"https://openrouter.ai/api/v1\")\n",
    "\n",
    "# Make a chat completion request\n",
    "response = client.chat.completions.create(\n",
    "    model=\"mistralai/mistral-7b-instruct\",  # you can use other OpenRouter models here\n",
    "    messages=[\n",
    "        {\"role\": \"user\", \"content\": \"It is too late to join the course?\"}\n",
    "    ]\n",
    ")\n",
    "\n",
    "# Print the result\n",
    "print(response.choices[0].message.content)\n"
   ]
  },
  {
   "cell_type": "code",
   "execution_count": null,
   "id": "290d640b-1027-4ed5-9e84-1b483fb28f4a",
   "metadata": {},
   "outputs": [],
   "source": []
  }
 ],
 "metadata": {
  "kernelspec": {
   "display_name": "Python 3 (ipykernel)",
   "language": "python",
   "name": "python3"
  },
  "language_info": {
   "codemirror_mode": {
    "name": "ipython",
    "version": 3
   },
   "file_extension": ".py",
   "mimetype": "text/x-python",
   "name": "python",
   "nbconvert_exporter": "python",
   "pygments_lexer": "ipython3",
   "version": "3.12.1"
  }
 },
 "nbformat": 4,
 "nbformat_minor": 5
}
