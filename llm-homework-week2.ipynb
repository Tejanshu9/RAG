{
 "cells": [
  {
   "cell_type": "code",
   "execution_count": 15,
   "id": "f61a6cb5-1386-422b-b2eb-a75f50172114",
   "metadata": {},
   "outputs": [
    {
     "name": "stderr",
     "output_type": "stream",
     "text": [
      "huggingface/tokenizers: The current process just got forked, after parallelism has already been used. Disabling parallelism to avoid deadlocks...\n",
      "To disable this warning, you can either:\n",
      "\t- Avoid using `tokenizers` before the fork if possible\n",
      "\t- Explicitly set the environment variable TOKENIZERS_PARALLELISM=(true | false)\n"
     ]
    },
    {
     "name": "stdout",
     "output_type": "stream",
     "text": [
      "Requirement already satisfied: qdrant-client>=1.14.2 in /usr/local/python/3.12.1/lib/python3.12/site-packages (from qdrant-client[fastembed]>=1.14.2) (1.14.3)\n",
      "Requirement already satisfied: grpcio>=1.41.0 in /usr/local/python/3.12.1/lib/python3.12/site-packages (from qdrant-client>=1.14.2->qdrant-client[fastembed]>=1.14.2) (1.73.1)\n",
      "Requirement already satisfied: httpx>=0.20.0 in /home/codespace/.local/lib/python3.12/site-packages (from httpx[http2]>=0.20.0->qdrant-client>=1.14.2->qdrant-client[fastembed]>=1.14.2) (0.28.1)\n",
      "Requirement already satisfied: numpy>=1.26 in /home/codespace/.local/lib/python3.12/site-packages (from qdrant-client>=1.14.2->qdrant-client[fastembed]>=1.14.2) (2.2.4)\n",
      "Requirement already satisfied: portalocker<3.0.0,>=2.7.0 in /usr/local/python/3.12.1/lib/python3.12/site-packages (from qdrant-client>=1.14.2->qdrant-client[fastembed]>=1.14.2) (2.10.1)\n",
      "Requirement already satisfied: protobuf>=3.20.0 in /usr/local/python/3.12.1/lib/python3.12/site-packages (from qdrant-client>=1.14.2->qdrant-client[fastembed]>=1.14.2) (6.31.1)\n",
      "Requirement already satisfied: pydantic!=2.0.*,!=2.1.*,!=2.2.0,>=1.10.8 in /usr/local/python/3.12.1/lib/python3.12/site-packages (from qdrant-client>=1.14.2->qdrant-client[fastembed]>=1.14.2) (2.11.5)\n",
      "Requirement already satisfied: urllib3<3,>=1.26.14 in /home/codespace/.local/lib/python3.12/site-packages (from qdrant-client>=1.14.2->qdrant-client[fastembed]>=1.14.2) (2.3.0)\n",
      "Requirement already satisfied: fastembed<0.8,>=0.7 in /usr/local/python/3.12.1/lib/python3.12/site-packages (from qdrant-client[fastembed]>=1.14.2) (0.7.1)\n",
      "Requirement already satisfied: huggingface-hub<1.0,>=0.20 in /usr/local/python/3.12.1/lib/python3.12/site-packages (from fastembed<0.8,>=0.7->qdrant-client[fastembed]>=1.14.2) (0.33.1)\n",
      "Requirement already satisfied: loguru<0.8.0,>=0.7.2 in /usr/local/python/3.12.1/lib/python3.12/site-packages (from fastembed<0.8,>=0.7->qdrant-client[fastembed]>=1.14.2) (0.7.3)\n",
      "Requirement already satisfied: mmh3<6.0.0,>=4.1.0 in /usr/local/python/3.12.1/lib/python3.12/site-packages (from fastembed<0.8,>=0.7->qdrant-client[fastembed]>=1.14.2) (5.1.0)\n",
      "Requirement already satisfied: onnxruntime!=1.20.0,>=1.17.0 in /usr/local/python/3.12.1/lib/python3.12/site-packages (from fastembed<0.8,>=0.7->qdrant-client[fastembed]>=1.14.2) (1.22.0)\n",
      "Requirement already satisfied: pillow<12.0.0,>=10.3.0 in /home/codespace/.local/lib/python3.12/site-packages (from fastembed<0.8,>=0.7->qdrant-client[fastembed]>=1.14.2) (11.1.0)\n",
      "Requirement already satisfied: py-rust-stemmers<0.2.0,>=0.1.0 in /usr/local/python/3.12.1/lib/python3.12/site-packages (from fastembed<0.8,>=0.7->qdrant-client[fastembed]>=1.14.2) (0.1.5)\n",
      "Requirement already satisfied: requests<3.0,>=2.31 in /home/codespace/.local/lib/python3.12/site-packages (from fastembed<0.8,>=0.7->qdrant-client[fastembed]>=1.14.2) (2.32.3)\n",
      "Requirement already satisfied: tokenizers<1.0,>=0.15 in /usr/local/python/3.12.1/lib/python3.12/site-packages (from fastembed<0.8,>=0.7->qdrant-client[fastembed]>=1.14.2) (0.21.2)\n",
      "Requirement already satisfied: tqdm<5.0,>=4.66 in /usr/local/python/3.12.1/lib/python3.12/site-packages (from fastembed<0.8,>=0.7->qdrant-client[fastembed]>=1.14.2) (4.67.1)\n",
      "Requirement already satisfied: anyio in /home/codespace/.local/lib/python3.12/site-packages (from httpx>=0.20.0->httpx[http2]>=0.20.0->qdrant-client>=1.14.2->qdrant-client[fastembed]>=1.14.2) (4.9.0)\n",
      "Requirement already satisfied: certifi in /home/codespace/.local/lib/python3.12/site-packages (from httpx>=0.20.0->httpx[http2]>=0.20.0->qdrant-client>=1.14.2->qdrant-client[fastembed]>=1.14.2) (2025.1.31)\n",
      "Requirement already satisfied: httpcore==1.* in /home/codespace/.local/lib/python3.12/site-packages (from httpx>=0.20.0->httpx[http2]>=0.20.0->qdrant-client>=1.14.2->qdrant-client[fastembed]>=1.14.2) (1.0.7)\n",
      "Requirement already satisfied: idna in /home/codespace/.local/lib/python3.12/site-packages (from httpx>=0.20.0->httpx[http2]>=0.20.0->qdrant-client>=1.14.2->qdrant-client[fastembed]>=1.14.2) (3.10)\n",
      "Requirement already satisfied: h11<0.15,>=0.13 in /home/codespace/.local/lib/python3.12/site-packages (from httpcore==1.*->httpx>=0.20.0->httpx[http2]>=0.20.0->qdrant-client>=1.14.2->qdrant-client[fastembed]>=1.14.2) (0.14.0)\n",
      "Requirement already satisfied: h2<5,>=3 in /usr/local/python/3.12.1/lib/python3.12/site-packages (from httpx[http2]>=0.20.0->qdrant-client>=1.14.2->qdrant-client[fastembed]>=1.14.2) (4.2.0)\n",
      "Requirement already satisfied: annotated-types>=0.6.0 in /usr/local/python/3.12.1/lib/python3.12/site-packages (from pydantic!=2.0.*,!=2.1.*,!=2.2.0,>=1.10.8->qdrant-client>=1.14.2->qdrant-client[fastembed]>=1.14.2) (0.7.0)\n",
      "Requirement already satisfied: pydantic-core==2.33.2 in /usr/local/python/3.12.1/lib/python3.12/site-packages (from pydantic!=2.0.*,!=2.1.*,!=2.2.0,>=1.10.8->qdrant-client>=1.14.2->qdrant-client[fastembed]>=1.14.2) (2.33.2)\n",
      "Requirement already satisfied: typing-extensions>=4.12.2 in /home/codespace/.local/lib/python3.12/site-packages (from pydantic!=2.0.*,!=2.1.*,!=2.2.0,>=1.10.8->qdrant-client>=1.14.2->qdrant-client[fastembed]>=1.14.2) (4.12.2)\n",
      "Requirement already satisfied: typing-inspection>=0.4.0 in /usr/local/python/3.12.1/lib/python3.12/site-packages (from pydantic!=2.0.*,!=2.1.*,!=2.2.0,>=1.10.8->qdrant-client>=1.14.2->qdrant-client[fastembed]>=1.14.2) (0.4.1)\n",
      "Requirement already satisfied: hyperframe<7,>=6.1 in /usr/local/python/3.12.1/lib/python3.12/site-packages (from h2<5,>=3->httpx[http2]>=0.20.0->qdrant-client>=1.14.2->qdrant-client[fastembed]>=1.14.2) (6.1.0)\n",
      "Requirement already satisfied: hpack<5,>=4.1 in /usr/local/python/3.12.1/lib/python3.12/site-packages (from h2<5,>=3->httpx[http2]>=0.20.0->qdrant-client>=1.14.2->qdrant-client[fastembed]>=1.14.2) (4.1.0)\n",
      "Requirement already satisfied: filelock in /home/codespace/.local/lib/python3.12/site-packages (from huggingface-hub<1.0,>=0.20->fastembed<0.8,>=0.7->qdrant-client[fastembed]>=1.14.2) (3.13.1)\n",
      "Requirement already satisfied: fsspec>=2023.5.0 in /home/codespace/.local/lib/python3.12/site-packages (from huggingface-hub<1.0,>=0.20->fastembed<0.8,>=0.7->qdrant-client[fastembed]>=1.14.2) (2024.6.1)\n",
      "Requirement already satisfied: packaging>=20.9 in /home/codespace/.local/lib/python3.12/site-packages (from huggingface-hub<1.0,>=0.20->fastembed<0.8,>=0.7->qdrant-client[fastembed]>=1.14.2) (24.2)\n",
      "Requirement already satisfied: pyyaml>=5.1 in /home/codespace/.local/lib/python3.12/site-packages (from huggingface-hub<1.0,>=0.20->fastembed<0.8,>=0.7->qdrant-client[fastembed]>=1.14.2) (6.0.2)\n",
      "Requirement already satisfied: hf-xet<2.0.0,>=1.1.2 in /usr/local/python/3.12.1/lib/python3.12/site-packages (from huggingface-hub<1.0,>=0.20->fastembed<0.8,>=0.7->qdrant-client[fastembed]>=1.14.2) (1.1.5)\n",
      "Requirement already satisfied: coloredlogs in /usr/local/python/3.12.1/lib/python3.12/site-packages (from onnxruntime!=1.20.0,>=1.17.0->fastembed<0.8,>=0.7->qdrant-client[fastembed]>=1.14.2) (15.0.1)\n",
      "Requirement already satisfied: flatbuffers in /usr/local/python/3.12.1/lib/python3.12/site-packages (from onnxruntime!=1.20.0,>=1.17.0->fastembed<0.8,>=0.7->qdrant-client[fastembed]>=1.14.2) (25.2.10)\n",
      "Requirement already satisfied: sympy in /home/codespace/.local/lib/python3.12/site-packages (from onnxruntime!=1.20.0,>=1.17.0->fastembed<0.8,>=0.7->qdrant-client[fastembed]>=1.14.2) (1.13.1)\n",
      "Requirement already satisfied: charset-normalizer<4,>=2 in /home/codespace/.local/lib/python3.12/site-packages (from requests<3.0,>=2.31->fastembed<0.8,>=0.7->qdrant-client[fastembed]>=1.14.2) (3.4.1)\n",
      "Requirement already satisfied: sniffio>=1.1 in /home/codespace/.local/lib/python3.12/site-packages (from anyio->httpx>=0.20.0->httpx[http2]>=0.20.0->qdrant-client>=1.14.2->qdrant-client[fastembed]>=1.14.2) (1.3.1)\n",
      "Requirement already satisfied: humanfriendly>=9.1 in /usr/local/python/3.12.1/lib/python3.12/site-packages (from coloredlogs->onnxruntime!=1.20.0,>=1.17.0->fastembed<0.8,>=0.7->qdrant-client[fastembed]>=1.14.2) (10.0)\n",
      "Requirement already satisfied: mpmath<1.4,>=1.1.0 in /home/codespace/.local/lib/python3.12/site-packages (from sympy->onnxruntime!=1.20.0,>=1.17.0->fastembed<0.8,>=0.7->qdrant-client[fastembed]>=1.14.2) (1.3.0)\n",
      "\n",
      "\u001b[1m[\u001b[0m\u001b[34;49mnotice\u001b[0m\u001b[1;39;49m]\u001b[0m\u001b[39;49m A new release of pip is available: \u001b[0m\u001b[31;49m25.0.1\u001b[0m\u001b[39;49m -> \u001b[0m\u001b[32;49m25.1.1\u001b[0m\n",
      "\u001b[1m[\u001b[0m\u001b[34;49mnotice\u001b[0m\u001b[1;39;49m]\u001b[0m\u001b[39;49m To update, run: \u001b[0m\u001b[32;49mpython3 -m pip install --upgrade pip\u001b[0m\n"
     ]
    }
   ],
   "source": [
    "!pip install \"qdrant-client[fastembed]>=1.14.2\"\n"
   ]
  },
  {
   "cell_type": "code",
   "execution_count": 16,
   "id": "b9528527-28fe-46db-aea0-e9843290796f",
   "metadata": {},
   "outputs": [
    {
     "name": "stderr",
     "output_type": "stream",
     "text": [
      "huggingface/tokenizers: The current process just got forked, after parallelism has already been used. Disabling parallelism to avoid deadlocks...\n",
      "To disable this warning, you can either:\n",
      "\t- Avoid using `tokenizers` before the fork if possible\n",
      "\t- Explicitly set the environment variable TOKENIZERS_PARALLELISM=(true | false)\n"
     ]
    },
    {
     "name": "stdout",
     "output_type": "stream",
     "text": [
      "Requirement already satisfied: fastembed in /usr/local/python/3.12.1/lib/python3.12/site-packages (0.7.1)\n",
      "Requirement already satisfied: huggingface-hub<1.0,>=0.20 in /usr/local/python/3.12.1/lib/python3.12/site-packages (from fastembed) (0.33.1)\n",
      "Requirement already satisfied: loguru<0.8.0,>=0.7.2 in /usr/local/python/3.12.1/lib/python3.12/site-packages (from fastembed) (0.7.3)\n",
      "Requirement already satisfied: mmh3<6.0.0,>=4.1.0 in /usr/local/python/3.12.1/lib/python3.12/site-packages (from fastembed) (5.1.0)\n",
      "Requirement already satisfied: numpy>=1.26 in /home/codespace/.local/lib/python3.12/site-packages (from fastembed) (2.2.4)\n",
      "Requirement already satisfied: onnxruntime!=1.20.0,>=1.17.0 in /usr/local/python/3.12.1/lib/python3.12/site-packages (from fastembed) (1.22.0)\n",
      "Requirement already satisfied: pillow<12.0.0,>=10.3.0 in /home/codespace/.local/lib/python3.12/site-packages (from fastembed) (11.1.0)\n",
      "Requirement already satisfied: py-rust-stemmers<0.2.0,>=0.1.0 in /usr/local/python/3.12.1/lib/python3.12/site-packages (from fastembed) (0.1.5)\n",
      "Requirement already satisfied: requests<3.0,>=2.31 in /home/codespace/.local/lib/python3.12/site-packages (from fastembed) (2.32.3)\n",
      "Requirement already satisfied: tokenizers<1.0,>=0.15 in /usr/local/python/3.12.1/lib/python3.12/site-packages (from fastembed) (0.21.2)\n",
      "Requirement already satisfied: tqdm<5.0,>=4.66 in /usr/local/python/3.12.1/lib/python3.12/site-packages (from fastembed) (4.67.1)\n",
      "Requirement already satisfied: filelock in /home/codespace/.local/lib/python3.12/site-packages (from huggingface-hub<1.0,>=0.20->fastembed) (3.13.1)\n",
      "Requirement already satisfied: fsspec>=2023.5.0 in /home/codespace/.local/lib/python3.12/site-packages (from huggingface-hub<1.0,>=0.20->fastembed) (2024.6.1)\n",
      "Requirement already satisfied: packaging>=20.9 in /home/codespace/.local/lib/python3.12/site-packages (from huggingface-hub<1.0,>=0.20->fastembed) (24.2)\n",
      "Requirement already satisfied: pyyaml>=5.1 in /home/codespace/.local/lib/python3.12/site-packages (from huggingface-hub<1.0,>=0.20->fastembed) (6.0.2)\n",
      "Requirement already satisfied: typing-extensions>=3.7.4.3 in /home/codespace/.local/lib/python3.12/site-packages (from huggingface-hub<1.0,>=0.20->fastembed) (4.12.2)\n",
      "Requirement already satisfied: hf-xet<2.0.0,>=1.1.2 in /usr/local/python/3.12.1/lib/python3.12/site-packages (from huggingface-hub<1.0,>=0.20->fastembed) (1.1.5)\n",
      "Requirement already satisfied: coloredlogs in /usr/local/python/3.12.1/lib/python3.12/site-packages (from onnxruntime!=1.20.0,>=1.17.0->fastembed) (15.0.1)\n",
      "Requirement already satisfied: flatbuffers in /usr/local/python/3.12.1/lib/python3.12/site-packages (from onnxruntime!=1.20.0,>=1.17.0->fastembed) (25.2.10)\n",
      "Requirement already satisfied: protobuf in /usr/local/python/3.12.1/lib/python3.12/site-packages (from onnxruntime!=1.20.0,>=1.17.0->fastembed) (6.31.1)\n",
      "Requirement already satisfied: sympy in /home/codespace/.local/lib/python3.12/site-packages (from onnxruntime!=1.20.0,>=1.17.0->fastembed) (1.13.1)\n",
      "Requirement already satisfied: charset-normalizer<4,>=2 in /home/codespace/.local/lib/python3.12/site-packages (from requests<3.0,>=2.31->fastembed) (3.4.1)\n",
      "Requirement already satisfied: idna<4,>=2.5 in /home/codespace/.local/lib/python3.12/site-packages (from requests<3.0,>=2.31->fastembed) (3.10)\n",
      "Requirement already satisfied: urllib3<3,>=1.21.1 in /home/codespace/.local/lib/python3.12/site-packages (from requests<3.0,>=2.31->fastembed) (2.3.0)\n",
      "Requirement already satisfied: certifi>=2017.4.17 in /home/codespace/.local/lib/python3.12/site-packages (from requests<3.0,>=2.31->fastembed) (2025.1.31)\n",
      "Requirement already satisfied: humanfriendly>=9.1 in /usr/local/python/3.12.1/lib/python3.12/site-packages (from coloredlogs->onnxruntime!=1.20.0,>=1.17.0->fastembed) (10.0)\n",
      "Requirement already satisfied: mpmath<1.4,>=1.1.0 in /home/codespace/.local/lib/python3.12/site-packages (from sympy->onnxruntime!=1.20.0,>=1.17.0->fastembed) (1.3.0)\n",
      "\n",
      "\u001b[1m[\u001b[0m\u001b[34;49mnotice\u001b[0m\u001b[1;39;49m]\u001b[0m\u001b[39;49m A new release of pip is available: \u001b[0m\u001b[31;49m25.0.1\u001b[0m\u001b[39;49m -> \u001b[0m\u001b[32;49m25.1.1\u001b[0m\n",
      "\u001b[1m[\u001b[0m\u001b[34;49mnotice\u001b[0m\u001b[1;39;49m]\u001b[0m\u001b[39;49m To update, run: \u001b[0m\u001b[32;49mpython3 -m pip install --upgrade pip\u001b[0m\n",
      "Note: you may need to restart the kernel to use updated packages.\n"
     ]
    }
   ],
   "source": [
    "pip install fastembed"
   ]
  },
  {
   "cell_type": "code",
   "execution_count": 17,
   "id": "4dce0a5c-3aa5-4de4-8549-495ec5defee7",
   "metadata": {},
   "outputs": [],
   "source": [
    "from fastembed import TextEmbedding\n",
    "from qdrant_client import QdrantClient, models"
   ]
  },
  {
   "cell_type": "code",
   "execution_count": 18,
   "id": "419c5b7e-8af7-4526-9384-667775469e25",
   "metadata": {},
   "outputs": [],
   "source": [
    "qd_client = QdrantClient(\"http://localhost:6333\")"
   ]
  },
  {
   "cell_type": "code",
   "execution_count": 19,
   "id": "66888eed-ece2-4709-b69b-adbbeef24dee",
   "metadata": {},
   "outputs": [],
   "source": [
    "EMBEDDING_DIMENSIONALITY = 512\n",
    "model_handle = \"jinaai/jina-embeddings-v2-small-en\""
   ]
  },
  {
   "cell_type": "code",
   "execution_count": 20,
   "id": "2261ad62-8a5e-46f6-a9d9-e4f6663cfd73",
   "metadata": {},
   "outputs": [
    {
     "name": "stdout",
     "output_type": "stream",
     "text": [
      "Min value in query embedding: -0.11726373885183883\n"
     ]
    }
   ],
   "source": [
    "import numpy as np\n",
    "\n",
    "# Load the embedding model\n",
    "model = TextEmbedding(model_name=\"jinaai/jina-embeddings-v2-small-en\")\n",
    "\n",
    "# Your query\n",
    "query = \"I just discovered the course. Can I join now?\"\n",
    "\n",
    "# Embed the query (returns a generator)\n",
    "embedding = list(model.embed([query]))[0]\n",
    "\n",
    "# Convert to NumPy array\n",
    "embedding_np = np.array(embedding)\n",
    "\n",
    "# Get min value\n",
    "min_value = np.min(embedding_np)\n",
    "\n",
    "print(\"Min value in query embedding:\", min_value)\n"
   ]
  },
  {
   "cell_type": "code",
   "execution_count": 21,
   "id": "ca3f046c-b2b1-4870-bfe5-e1e8c42f38ad",
   "metadata": {},
   "outputs": [
    {
     "data": {
      "text/plain": [
       "np.float64(1.0)"
      ]
     },
     "execution_count": 21,
     "metadata": {},
     "output_type": "execute_result"
    }
   ],
   "source": [
    "import numpy as np\n",
    "np.linalg.norm(embedding)"
   ]
  },
  {
   "cell_type": "code",
   "execution_count": 22,
   "id": "ac9bb10d-2d79-402d-bedc-70baf8c3b61a",
   "metadata": {},
   "outputs": [
    {
     "data": {
      "text/plain": [
       "np.float64(1.0000000000000002)"
      ]
     },
     "execution_count": 22,
     "metadata": {},
     "output_type": "execute_result"
    }
   ],
   "source": [
    "embedding.dot(embedding)"
   ]
  },
  {
   "cell_type": "code",
   "execution_count": 23,
   "id": "6c992cbd-ce9d-4642-b40a-b9ef17e15772",
   "metadata": {},
   "outputs": [
    {
     "data": {
      "text/plain": [
       "np.float64(0.9008528895674548)"
      ]
     },
     "execution_count": 23,
     "metadata": {},
     "output_type": "execute_result"
    }
   ],
   "source": [
    "import numpy as np\n",
    "\n",
    "# Load the embedding model\n",
    "model = TextEmbedding(model_name=\"jinaai/jina-embeddings-v2-small-en\")\n",
    "\n",
    "# Your query\n",
    "doc = 'Can I still join the course after the start date?'\n",
    "\n",
    "\n",
    "# Embed the query (returns a generator)\n",
    "embed = list(model.embed([doc]))[0]\n",
    "\n",
    "\n",
    "embedding.dot(embed)"
   ]
  },
  {
   "cell_type": "code",
   "execution_count": 26,
   "id": "dc837bcb-142f-4276-8a81-f1e6ad2f247c",
   "metadata": {},
   "outputs": [
    {
     "name": "stdout",
     "output_type": "stream",
     "text": [
      "Document 1 similarity: 0.7458\n",
      "Document 2 similarity: 0.8087\n",
      "Document 3 similarity: 0.8343\n",
      "Document 4 similarity: 0.6986\n",
      "Document 5 similarity: 0.6704\n"
     ]
    }
   ],
   "source": [
    "from sklearn.metrics.pairwise import cosine_similarity\n",
    "import numpy as np\n",
    "\n",
    "# Load the embedding model\n",
    "embed_model = TextEmbedding(model_name=\"jinaai/jina-embeddings-v2-small-en\")\n",
    "\n",
    "# Step 2: Document list\n",
    "documents = [{'text': \"Yes, even if you don't register, you're still eligible to submit the homeworks.\\nBe aware, however, that there will be deadlines for turning in the final projects. So don't leave everything for the last minute.\",\n",
    "  'section': 'General course-related questions',\n",
    "  'question': 'Course - Can I still join the course after the start date?',\n",
    "  'course': 'data-engineering-zoomcamp'},\n",
    " {'text': 'Yes, we will keep all the materials after the course finishes, so you can follow the course at your own pace after it finishes.\\nYou can also continue looking at the homeworks and continue preparing for the next cohort. I guess you can also start working on your final capstone project.',\n",
    "  'section': 'General course-related questions',\n",
    "  'question': 'Course - Can I follow the course after it finishes?',\n",
    "  'course': 'data-engineering-zoomcamp'},\n",
    " {'text': \"The purpose of this document is to capture frequently asked technical questions\\nThe exact day and hour of the course will be 15th Jan 2024 at 17h00. The course will start with the first  “Office Hours'' live.1\\nSubscribe to course public Google Calendar (it works from Desktop only).\\nRegister before the course starts using this link.\\nJoin the course Telegram channel with announcements.\\nDon’t forget to register in DataTalks.Club's Slack and join the channel.\",\n",
    "  'section': 'General course-related questions',\n",
    "  'question': 'Course - When will the course start?',\n",
    "  'course': 'data-engineering-zoomcamp'},\n",
    " {'text': 'You can start by installing and setting up all the dependencies and requirements:\\nGoogle cloud account\\nGoogle Cloud SDK\\nPython 3 (installed with Anaconda)\\nTerraform\\nGit\\nLook over the prerequisites and syllabus to see if you are comfortable with these subjects.',\n",
    "  'section': 'General course-related questions',\n",
    "  'question': 'Course - What can I do before the course starts?',\n",
    "  'course': 'data-engineering-zoomcamp'},\n",
    " {'text': 'Star the repo! Share it with friends if you find it useful ❣️\\nCreate a PR if you see you can improve the text or the structure of the repository.',\n",
    "  'section': 'General course-related questions',\n",
    "  'question': 'How can we contribute to the course?',\n",
    "  'course': 'data-engineering-zoomcamp'}]\n",
    "\n",
    "doc_texts = [doc['text'] for doc in documents]\n",
    "\n",
    "# 3. Compute all document embeddings (as normalized vectors)\n",
    "V = np.array(list(embed_model.embed(doc_texts)))  # shape: (5, 384)\n",
    "\n",
    "# 4. Compute query embedding\n",
    "query = \"When does the course begin?\"\n",
    "q = np.array(list(embed_model.embed([query]))[0])  # shape: (384,)\n",
    "\n",
    "# 5. Compute cosine similarities using dot product\n",
    "similarities = V.dot(q)  # shape: (5,)\n",
    "\n",
    "# 6. Print the results\n",
    "for i, score in enumerate(similarities):\n",
    "    print(f\"Document {i+1} similarity: {score:.4f}\")"
   ]
  },
  {
   "cell_type": "code",
   "execution_count": 31,
   "id": "d49dea09-4b50-476d-9533-a75e2c14134f",
   "metadata": {},
   "outputs": [
    {
     "name": "stdout",
     "output_type": "stream",
     "text": [
      "Document 1 similarity: 0.8220\n",
      "Document 2 similarity: 0.8297\n",
      "Document 3 similarity: 0.8777\n",
      "Document 4 similarity: 0.7753\n",
      "Document 5 similarity: 0.7616\n"
     ]
    }
   ],
   "source": [
    "from sklearn.metrics.pairwise import cosine_similarity\n",
    "import numpy as np\n",
    "\n",
    "# Load the embedding model\n",
    "embed_model = TextEmbedding(model_name=\"jinaai/jina-embeddings-v2-small-en\")\n",
    "\n",
    "# Step 2: Document list\n",
    "documents = [{'text': \"Yes, even if you don't register, you're still eligible to submit the homeworks.\\nBe aware, however, that there will be deadlines for turning in the final projects. So don't leave everything for the last minute.\",\n",
    "  'section': 'General course-related questions',\n",
    "  'question': 'Course - Can I still join the course after the start date?',\n",
    "  'course': 'data-engineering-zoomcamp'},\n",
    " {'text': 'Yes, we will keep all the materials after the course finishes, so you can follow the course at your own pace after it finishes.\\nYou can also continue looking at the homeworks and continue preparing for the next cohort. I guess you can also start working on your final capstone project.',\n",
    "  'section': 'General course-related questions',\n",
    "  'question': 'Course - Can I follow the course after it finishes?',\n",
    "  'course': 'data-engineering-zoomcamp'},\n",
    " {'text': \"The purpose of this document is to capture frequently asked technical questions\\nThe exact day and hour of the course will be 15th Jan 2024 at 17h00. The course will start with the first  “Office Hours'' live.1\\nSubscribe to course public Google Calendar (it works from Desktop only).\\nRegister before the course starts using this link.\\nJoin the course Telegram channel with announcements.\\nDon’t forget to register in DataTalks.Club's Slack and join the channel.\",\n",
    "  'section': 'General course-related questions',\n",
    "  'question': 'Course - When will the course start?',\n",
    "  'course': 'data-engineering-zoomcamp'},\n",
    " {'text': 'You can start by installing and setting up all the dependencies and requirements:\\nGoogle cloud account\\nGoogle Cloud SDK\\nPython 3 (installed with Anaconda)\\nTerraform\\nGit\\nLook over the prerequisites and syllabus to see if you are comfortable with these subjects.',\n",
    "  'section': 'General course-related questions',\n",
    "  'question': 'Course - What can I do before the course starts?',\n",
    "  'course': 'data-engineering-zoomcamp'},\n",
    " {'text': 'Star the repo! Share it with friends if you find it useful ❣️\\nCreate a PR if you see you can improve the text or the structure of the repository.',\n",
    "  'section': 'General course-related questions',\n",
    "  'question': 'How can we contribute to the course?',\n",
    "  'course': 'data-engineering-zoomcamp'}]\n",
    "\n",
    "\n",
    "full_text = [doc['question'] + ' ' + doc['text'] for doc in documents]\n",
    "\n",
    "# 3. Compute all document embeddings (as normalized vectors)\n",
    "V = np.array(list(embed_model.embed(full_text)))  \n",
    "\n",
    "# 4. Compute query embedding\n",
    "query = \"When does the course begin?\"\n",
    "q = np.array(list(embed_model.embed([query]))[0])  \n",
    "\n",
    "# 5. Compute cosine similarities using dot product\n",
    "similar = V.dot(q)  \n",
    "\n",
    "# 6. Print the results\n",
    "for i, score in enumerate(similar):\n",
    "    print(f\"Document {i+1} similarity: {score:.4f}\")"
   ]
  },
  {
   "cell_type": "code",
   "execution_count": 35,
   "id": "86ef1933-b04c-4012-9ae6-19d43e973b6c",
   "metadata": {},
   "outputs": [
    {
     "name": "stdout",
     "output_type": "stream",
     "text": [
      "BAAI/bge-base-en: 768\n",
      "BAAI/bge-base-en-v1.5: 768\n",
      "BAAI/bge-large-en-v1.5: 1024\n",
      "BAAI/bge-small-en: 384\n",
      "BAAI/bge-small-en-v1.5: 384\n",
      "BAAI/bge-small-zh-v1.5: 512\n",
      "mixedbread-ai/mxbai-embed-large-v1: 1024\n",
      "snowflake/snowflake-arctic-embed-xs: 384\n",
      "snowflake/snowflake-arctic-embed-s: 384\n",
      "snowflake/snowflake-arctic-embed-m: 768\n",
      "snowflake/snowflake-arctic-embed-m-long: 768\n",
      "snowflake/snowflake-arctic-embed-l: 1024\n",
      "jinaai/jina-clip-v1: 768\n",
      "Qdrant/clip-ViT-B-32-text: 512\n",
      "sentence-transformers/all-MiniLM-L6-v2: 384\n",
      "jinaai/jina-embeddings-v2-base-en: 768\n",
      "jinaai/jina-embeddings-v2-small-en: 512\n",
      "jinaai/jina-embeddings-v2-base-de: 768\n",
      "jinaai/jina-embeddings-v2-base-code: 768\n",
      "jinaai/jina-embeddings-v2-base-zh: 768\n",
      "jinaai/jina-embeddings-v2-base-es: 768\n",
      "thenlper/gte-base: 768\n",
      "thenlper/gte-large: 1024\n",
      "nomic-ai/nomic-embed-text-v1.5: 768\n",
      "nomic-ai/nomic-embed-text-v1.5-Q: 768\n",
      "nomic-ai/nomic-embed-text-v1: 768\n",
      "sentence-transformers/paraphrase-multilingual-MiniLM-L12-v2: 384\n",
      "sentence-transformers/paraphrase-multilingual-mpnet-base-v2: 768\n",
      "intfloat/multilingual-e5-large: 1024\n",
      "jinaai/jina-embeddings-v3: 1024\n",
      "\n",
      "Available embedding dimensions: [384, 512, 768, 1024]\n"
     ]
    }
   ],
   "source": [
    "from fastembed import TextEmbedding\n",
    "\n",
    "dims = set()\n",
    "for model in TextEmbedding.list_supported_models():\n",
    "    # It's highly probable that the model name is under the 'model' key\n",
    "    # and the dimension is under the 'dim' key based on the error.\n",
    "    # We should add a check for existence just in case, but for this error,\n",
    "    # it's likely 'name' is just not the correct key.\n",
    "    if 'model' in model and 'dim' in model:\n",
    "        print(f\"{model['model']}: {model['dim']}\")\n",
    "        dims.add(model[\"dim\"])\n",
    "    else:\n",
    "        # Handle cases where 'model' or 'dim' might be missing in some entries\n",
    "        print(f\"Skipping malformed model entry: {model}\")\n",
    "\n",
    "\n",
    "print(\"\\nAvailable embedding dimensions:\", sorted(dims))"
   ]
  },
  {
   "cell_type": "code",
   "execution_count": 36,
   "id": "380cbca5-4601-4b3b-a46f-94b892c2f20f",
   "metadata": {},
   "outputs": [],
   "source": [
    "import requests \n",
    "\n",
    "docs_url = 'https://github.com/alexeygrigorev/llm-rag-workshop/raw/main/notebooks/documents.json'\n",
    "docs_response = requests.get(docs_url)\n",
    "documents_raw = docs_response.json()\n",
    "\n",
    "\n",
    "documents = []\n",
    "\n",
    "for course in documents_raw:\n",
    "    course_name = course['course']\n",
    "    if course_name != 'machine-learning-zoomcamp':\n",
    "        continue\n",
    "\n",
    "    for doc in course['documents']:\n",
    "        doc['course'] = course_name\n",
    "        documents.append(doc)"
   ]
  },
  {
   "cell_type": "code",
   "execution_count": 37,
   "id": "edd4d62e-82c3-494a-8f4d-6d092473926e",
   "metadata": {},
   "outputs": [],
   "source": [
    "import os\n",
    "from openai import OpenAI\n",
    "\n",
    "api_key = os.getenv(\"OPENROUTER_API_KEY\")\n",
    "\n",
    "client = OpenAI(\n",
    "    api_key=api_key,\n",
    "    base_url=\"https://openrouter.ai/api/v1\"\n",
    ")"
   ]
  },
  {
   "cell_type": "code",
   "execution_count": 39,
   "id": "56bb771f-2f9a-491a-9a89-378df7ccb931",
   "metadata": {},
   "outputs": [],
   "source": [
    "from qdrant_client import QdrantClient, models"
   ]
  },
  {
   "cell_type": "code",
   "execution_count": 40,
   "id": "2f3b05ba-45ac-4687-af6c-c4de66f322c5",
   "metadata": {},
   "outputs": [],
   "source": [
    "qd_client = QdrantClient(\"http://localhost:6333\")"
   ]
  },
  {
   "cell_type": "code",
   "execution_count": 42,
   "id": "6ac5a7b2-bdee-455e-bb0f-6eb2a7449b6a",
   "metadata": {},
   "outputs": [],
   "source": [
    "EMBEDDING_DIMENSIONALITY = 384\n",
    "model_handle = \"BAAI/bge-small-en\""
   ]
  },
  {
   "cell_type": "code",
   "execution_count": 43,
   "id": "0f76004e-36ac-47af-8964-4f5af2bc19c5",
   "metadata": {},
   "outputs": [],
   "source": [
    "collection_name = \"ml-zoomcamp-faq\""
   ]
  },
  {
   "cell_type": "code",
   "execution_count": 44,
   "id": "c2951b2b-f4f7-40e2-b8d3-a6196f61ec08",
   "metadata": {},
   "outputs": [
    {
     "data": {
      "text/plain": [
       "True"
      ]
     },
     "execution_count": 44,
     "metadata": {},
     "output_type": "execute_result"
    }
   ],
   "source": [
    "\n",
    "qd_client.create_collection(\n",
    "    collection_name=collection_name,\n",
    "    vectors_config=models.VectorParams(\n",
    "        size=EMBEDDING_DIMENSIONALITY,\n",
    "        distance=models.Distance.COSINE\n",
    "    )\n",
    ")"
   ]
  },
  {
   "cell_type": "code",
   "execution_count": 45,
   "id": "3de7407c-4d0f-4141-8f63-ee0cf88c805f",
   "metadata": {},
   "outputs": [
    {
     "data": {
      "text/plain": [
       "UpdateResult(operation_id=1, status=<UpdateStatus.COMPLETED: 'completed'>)"
      ]
     },
     "execution_count": 45,
     "metadata": {},
     "output_type": "execute_result"
    }
   ],
   "source": [
    "qd_client.create_payload_index(\n",
    "    collection_name=collection_name,\n",
    "    field_name=\"course\",\n",
    "    field_schema=\"keyword\"\n",
    ")"
   ]
  },
  {
   "cell_type": "code",
   "execution_count": 47,
   "id": "8831c2be-8928-4dbe-82d5-35ca99a1c18f",
   "metadata": {},
   "outputs": [],
   "source": [
    "points = []\n",
    "\n",
    "for i, doc in enumerate(documents):\n",
    "    text = doc['question'] + ' ' + doc['text']\n",
    "    vector = models.Document(text=text, model=model_handle)\n",
    "    point = models.PointStruct(\n",
    "        id=i,\n",
    "        vector=vector,\n",
    "        payload=doc\n",
    "    )\n",
    "    points.append(point)"
   ]
  },
  {
   "cell_type": "code",
   "execution_count": 48,
   "id": "633f8cc4-7c55-40e1-9d17-8eb58ae304bc",
   "metadata": {},
   "outputs": [
    {
     "name": "stderr",
     "output_type": "stream",
     "text": [
      "Fetching 5 files: 100%|████████████████████████████████████████████████████| 5/5 [00:01<00:00,  3.97it/s]\n"
     ]
    },
    {
     "data": {
      "text/plain": [
       "UpdateResult(operation_id=2, status=<UpdateStatus.COMPLETED: 'completed'>)"
      ]
     },
     "execution_count": 48,
     "metadata": {},
     "output_type": "execute_result"
    }
   ],
   "source": [
    "qd_client.upsert(\n",
    "    collection_name=collection_name,\n",
    "    points=points\n",
    ")"
   ]
  },
  {
   "cell_type": "code",
   "execution_count": 50,
   "id": "b182c505-aabe-4962-954f-32706af41aa9",
   "metadata": {},
   "outputs": [],
   "source": [
    "question = 'I just discovered the course. Can I join now?'"
   ]
  },
  {
   "cell_type": "code",
   "execution_count": 56,
   "id": "073c0e63-64bd-46d8-bc9c-52f6b4ef6e0c",
   "metadata": {},
   "outputs": [
    {
     "name": "stdout",
     "output_type": "stream",
     "text": [
      "Payload: {'text': 'Yes, you can. You won’t be able to submit some of the homeworks, but you can still take part in the course.\\nIn order to get a certificate, you need to submit 2 out of 3 course projects and review 3 peers’ Projects by the deadline. It means that if you join the course at the end of November and manage to work on two projects, you will still be eligible for a certificate.', 'section': 'General course-related questions', 'question': 'The course has already started. Can I still join it?', 'course': 'machine-learning-zoomcamp'}\n",
      "Score: 0.8703172\n"
     ]
    }
   ],
   "source": [
    "query_result = qd_client.query_points(\n",
    "    collection_name=collection_name,\n",
    "    query=models.Document(\n",
    "        text=question,\n",
    "        model=model_handle \n",
    "    ),\n",
    "    limit=1,\n",
    "    with_payload=True\n",
    ")\n",
    "\n",
    "# Get the first result\n",
    "top_point = query_result.points[0]\n",
    "\n",
    "print(\"Payload:\", top_point.payload)\n",
    "print(\"Score:\", top_point.score)"
   ]
  }
 ],
 "metadata": {
  "kernelspec": {
   "display_name": "Python 3 (ipykernel)",
   "language": "python",
   "name": "python3"
  },
  "language_info": {
   "codemirror_mode": {
    "name": "ipython",
    "version": 3
   },
   "file_extension": ".py",
   "mimetype": "text/x-python",
   "name": "python",
   "nbconvert_exporter": "python",
   "pygments_lexer": "ipython3",
   "version": "3.12.1"
  }
 },
 "nbformat": 4,
 "nbformat_minor": 5
}
